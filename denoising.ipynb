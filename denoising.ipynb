{
 "cells": [
  {
   "cell_type": "code",
   "execution_count": 2,
   "metadata": {},
   "outputs": [],
   "source": [
    "import matplotlib.pyplot as plt\n",
    "from scipy.io import wavfile\n",
    "import os\n",
    "\n",
    "from preferences import *"
   ]
  },
  {
   "cell_type": "code",
   "execution_count": 3,
   "metadata": {},
   "outputs": [],
   "source": [
    "files_wav = list()\n",
    "\n",
    "for dir in os.scandir(os.path.join(RESOURCES_PATH, 'samples')):\n",
    "    if dir.name == '.DS_Store': continue\n",
    "\n",
    "    for file in os.scandir(dir.path):\n",
    "        \n",
    "        # Skip all non-audio files\n",
    "        name_split = os.path.splitext(file.name)\n",
    "        file_ext = name_split[1][1:]\n",
    "        if file_ext.lower() != 'wav': continue\n",
    "        \n",
    "        # Append to list of audio files\n",
    "        files_wav.append(file)"
   ]
  },
  {
   "cell_type": "code",
   "execution_count": 8,
   "metadata": {},
   "outputs": [],
   "source": [
    "for file in files_wav:\n",
    "    sampling_freq, data = wavfile.read(file.path)\n",
    "\n",
    "    # Skip empty files\n",
    "    if data.shape[0] == 0: continue\n",
    "    signal_0 = data[:, 0]\n",
    "\n",
    "    \n",
    "    # print(f'{file.name} – {data.shape} ({sampling_freq})')\n",
    "\n",
    "    # plt.figure(figsize=(15, 10))\n",
    "\n",
    "    # plt.specgram(signal_0, Fs=sampling_freq)\n",
    "\n",
    "    # plt.title(file.name)\n",
    "    # plt.xlabel('Time')\n",
    "    # plt.ylabel('Frequency')\n",
    "\n",
    "    # plt.show()\n",
    "\n"
   ]
  },
  {
   "cell_type": "code",
   "execution_count": null,
   "metadata": {},
   "outputs": [],
   "source": [
    "# Import data\n",
    "filepath = RESOURCES_PATH + 'samples/2020_01_28_3A/2020_01_28_1.wav'  # use OS path objects\n",
    "sampling_freq, data = wavfile.read(filepath)\n",
    "\n",
    "print(sampling_freq)\n",
    "\n",
    "signal_0 = data[:, 0]\n",
    "\n",
    "\n",
    "plt.figure(figsize=(15, 10))\n",
    "plt.specgram(signal_0, Fs=sampling_freq)\n",
    "plt.xlabel('Time')\n",
    "plt.ylabel('Frequency')\n",
    "plt.show()"
   ]
  },
  {
   "cell_type": "code",
   "execution_count": null,
   "metadata": {},
   "outputs": [],
   "source": []
  }
 ],
 "metadata": {
  "interpreter": {
   "hash": "397704579725e15f5c7cb49fe5f0341eb7531c82d19f2c29d197e8b64ab5776b"
  },
  "kernelspec": {
   "display_name": "Python 3.9.0 64-bit",
   "language": "python",
   "name": "python3"
  },
  "language_info": {
   "codemirror_mode": {
    "name": "ipython",
    "version": 3
   },
   "file_extension": ".py",
   "mimetype": "text/x-python",
   "name": "python",
   "nbconvert_exporter": "python",
   "pygments_lexer": "ipython3",
   "version": "3.9.0"
  },
  "orig_nbformat": 4
 },
 "nbformat": 4,
 "nbformat_minor": 2
}
