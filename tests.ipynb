{
 "cells": [
  {
   "cell_type": "code",
   "execution_count": 70,
   "metadata": {},
   "outputs": [],
   "source": [
    "import pandas as pd\n",
    "import os\n",
    "import datetime as dt\n",
    "\n",
    "from preferences import *\n",
    "\n",
    "\n",
    "FOLDERS_IGNORE = ('.DS_Store', )"
   ]
  },
  {
   "cell_type": "code",
   "execution_count": 71,
   "metadata": {},
   "outputs": [],
   "source": [
    "# Import Excel datasheet\n",
    "excel_path = os.path.join(RESOURCES_PATH, '_other/relevés.xlsx')\n",
    "df = pd.read_excel (excel_path, engine='openpyxl')"
   ]
  },
  {
   "cell_type": "code",
   "execution_count": 72,
   "metadata": {},
   "outputs": [
    {
     "data": {
      "text/plain": [
       "Index(['Date\\nannée_mois_jour', 'Heure \\n(UTC)', 'Position GPS début',\n",
       "       'Fichier audio (.waw)\\nSource Audacity',\n",
       "       'Cartographie (.PNG)\\nSource C-Map', 'Photo (.JPG ou .jpg)',\n",
       "       'N°Mesure \\njournalier', 'N°Mesure Globale', 'Force Vent\\n (nd)',\n",
       "       'Orientation', 'Température Air\\n(°C)', 'Houle', 'Profondeur (m)',\n",
       "       'Immersion (m)', 'Observations', 'Auteur'],\n",
       "      dtype='object')"
      ]
     },
     "execution_count": 72,
     "metadata": {},
     "output_type": "execute_result"
    }
   ],
   "source": [
    "df.columns"
   ]
  },
  {
   "cell_type": "code",
   "execution_count": 77,
   "metadata": {},
   "outputs": [],
   "source": [
    "col_dict = {\n",
    "    'date': 'Date\\nannée_mois_jour',\n",
    "    'time': 'Heure \\n(UTC)',\n",
    "    'gps': 'Position GPS début',\n",
    "    'audio_path': 'Fichier audio (.waw)\\nSource Audacity',\n",
    "    'map_path': 'Cartographie (.PNG)\\nSource C-Map',\n",
    "    'photo_path': 'Photo (.JPG ou .jpg)',\n",
    "    'measurement_nb_day': 'N°Mesure \\njournalier',\n",
    "    'measurement_nb_global': 'N°Mesure Globale',\n",
    "    'wind_speed': 'Force Vent\\n (nd)',\n",
    "    'orientation': 'Orientation',\n",
    "    'air_temperature': 'Température Air\\n(°C)',\n",
    "    'waves': 'Houle',\n",
    "    'depth': 'Profondeur (m)',\n",
    "    'immersion': 'Immersion (m)',\n",
    "    'observations': 'Observations',\n",
    "    'author': 'Auteur'\n",
    "}\n",
    "\n",
    "df_processed = df.copy()"
   ]
  },
  {
   "cell_type": "code",
   "execution_count": null,
   "metadata": {},
   "outputs": [],
   "source": [
    "# Reformat date column\n",
    "series_date, series_time = df[col_dict['date']], df[col_dict['time']]\n",
    "series_datetime = series_date + ' ' + series_time\n",
    "series_datetime_dt = pd.to_datetime(series_datetime, format='%Y_%m_%d %Hh%M')\n",
    "\n",
    "# Update dataframe\n",
    "df_processed.insert(2, 'datetime', series_datetime_dt)\n",
    "df_processed.drop(col_dict['date'], axis=1, inplace=True)\n",
    "df_processed.drop(col_dict['time'], axis=1, inplace=True)\n",
    "\n",
    "# Update col_dict\n",
    "col_dict['datetime'] = 'datetime'\n",
    "col_dict.pop('date')\n",
    "col_dict.pop('time')"
   ]
  },
  {
   "cell_type": "code",
   "execution_count": 79,
   "metadata": {},
   "outputs": [],
   "source": [
    "samples_path = os.path.join(RESOURCES_PATH, 'samples')\n",
    "\n",
    "\n",
    "for folder in os.scandir(samples_path):\n",
    "    if folder.name in FOLDERS_IGNORE: continue\n",
    "\n",
    "    # Read datetime\n",
    "    date_str = '_'.join(folder.name .split('_')[:-1])\n",
    "    datetime = dt.datetime.strptime(date_str, '%Y_%m_%d')\n",
    "\n",
    "# => create real image, map, and audio paths and modify them in the dataframe\n",
    "\n",
    "    "
   ]
  },
  {
   "cell_type": "code",
   "execution_count": 56,
   "metadata": {},
   "outputs": [
    {
     "name": "stdout",
     "output_type": "stream",
     "text": [
      "a2\n",
      "a1\n"
     ]
    }
   ],
   "source": []
  },
  {
   "cell_type": "code",
   "execution_count": null,
   "metadata": {},
   "outputs": [],
   "source": []
  }
 ],
 "metadata": {
  "interpreter": {
   "hash": "397704579725e15f5c7cb49fe5f0341eb7531c82d19f2c29d197e8b64ab5776b"
  },
  "kernelspec": {
   "display_name": "Python 3.9.0 64-bit",
   "language": "python",
   "name": "python3"
  },
  "language_info": {
   "codemirror_mode": {
    "name": "ipython",
    "version": 3
   },
   "file_extension": ".py",
   "mimetype": "text/x-python",
   "name": "python",
   "nbconvert_exporter": "python",
   "pygments_lexer": "ipython3",
   "version": "3.9.0"
  },
  "orig_nbformat": 4
 },
 "nbformat": 4,
 "nbformat_minor": 2
}
