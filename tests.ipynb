{
 "cells": [
  {
   "cell_type": "code",
   "execution_count": 4,
   "metadata": {},
   "outputs": [],
   "source": [
    "import pandas as pd\n",
    "import os\n",
    "import datetime as dt\n",
    "\n",
    "from preferences import *\n",
    "\n",
    "\n",
    "FOLDERS_IGNORE = ('.DS_Store', )"
   ]
  },
  {
   "cell_type": "code",
   "execution_count": 5,
   "metadata": {},
   "outputs": [],
   "source": [
    "# Import Excel datasheet\n",
    "excel_path = os.path.join(RESOURCES_PATH, '_other/relevés.xlsx')\n",
    "df = pd.read_excel (excel_path, engine='openpyxl')\n",
    "\n",
    "# Remove last line (NaN)\n",
    "df.drop(49, inplace=True)"
   ]
  },
  {
   "cell_type": "code",
   "execution_count": 6,
   "metadata": {},
   "outputs": [],
   "source": [
    "# df.columns"
   ]
  },
  {
   "cell_type": "code",
   "execution_count": 7,
   "metadata": {},
   "outputs": [],
   "source": [
    "col_dict = {\n",
    "    'date': 'Date\\nannée_mois_jour',\n",
    "    'time': 'Heure \\n(UTC)',\n",
    "    'gps': 'Position GPS début',\n",
    "    'audio_path': 'Fichier audio (.waw)\\nSource Audacity',\n",
    "    'map_path': 'Cartographie (.PNG)\\nSource C-Map',\n",
    "    'photo_path': 'Photo (.JPG ou .jpg)',\n",
    "    'measurement_nb_day': 'N°Mesure \\njournalier',\n",
    "    'measurement_nb_global': 'N°Mesure Globale',\n",
    "    'wind_speed': 'Force Vent\\n (nd)',\n",
    "    'heading': 'Orientation',\n",
    "    'air_temperature': 'Température Air\\n(°C)',\n",
    "    'waves': 'Houle',\n",
    "    'depth': 'Profondeur (m)',\n",
    "    'immersion': 'Immersion (m)',\n",
    "    'observations': 'Observations',\n",
    "    'author': 'Auteur'\n",
    "}\n",
    "\n",
    "df_processed = df.copy()"
   ]
  },
  {
   "cell_type": "code",
   "execution_count": 8,
   "metadata": {},
   "outputs": [
    {
     "data": {
      "text/plain": [
       "'Heure \\n(UTC)'"
      ]
     },
     "execution_count": 8,
     "metadata": {},
     "output_type": "execute_result"
    }
   ],
   "source": [
    "# Reformat date column\n",
    "series_date, series_time = df[col_dict['date']], df[col_dict['time']]\n",
    "series_datetime = series_date + ' ' + series_time\n",
    "series_datetime_dt = pd.to_datetime(series_datetime, format='%Y_%m_%d %Hh%M')\n",
    "\n",
    "# Update dataframe\n",
    "df_processed.insert(2, 'datetime', series_datetime_dt)\n",
    "df_processed.drop(col_dict['date'], axis=1, inplace=True)\n",
    "df_processed.drop(col_dict['time'], axis=1, inplace=True)\n",
    "\n",
    "# Update col_dict\n",
    "col_dict['datetime'] = 'datetime'\n",
    "col_dict.pop('date')\n",
    "col_dict.pop('time')\n",
    "\n",
    "\n",
    "#! line 49 is useless"
   ]
  },
  {
   "cell_type": "code",
   "execution_count": 9,
   "metadata": {},
   "outputs": [
    {
     "name": "stderr",
     "output_type": "stream",
     "text": [
      "<ipython-input-9-1922eb88c631>:7: SettingWithCopyWarning: \n",
      "A value is trying to be set on a copy of a slice from a DataFrame\n",
      "\n",
      "See the caveats in the documentation: https://pandas.pydata.org/pandas-docs/stable/user_guide/indexing.html#returning-a-view-versus-a-copy\n",
      "  series_wind_speed[i] = speed_avg\n"
     ]
    }
   ],
   "source": [
    "# Reformat wind speed\n",
    "series_wind_speed = df[col_dict['wind_speed']]\n",
    "for i, speed_val in enumerate(series_wind_speed):\n",
    "    if type(speed_val) == str:\n",
    "        range_start, range_stop = speed_val.split('-')\n",
    "        speed_avg = (float(range_start) + float(range_stop)) / 2.\n",
    "        series_wind_speed[i] = speed_avg\n",
    "\n",
    "df_processed[col_dict['wind_speed']] = series_wind_speed"
   ]
  },
  {
   "cell_type": "code",
   "execution_count": 10,
   "metadata": {},
   "outputs": [
    {
     "name": "stderr",
     "output_type": "stream",
     "text": [
      "<ipython-input-10-5b51f2ba5b29>:23: SettingWithCopyWarning: \n",
      "A value is trying to be set on a copy of a slice from a DataFrame\n",
      "\n",
      "See the caveats in the documentation: https://pandas.pydata.org/pandas-docs/stable/user_guide/indexing.html#returning-a-view-versus-a-copy\n",
      "  series_heading[i] = hdg_conv_dict[hdg_val]\n"
     ]
    }
   ],
   "source": [
    "# Reformat heading\n",
    "hdg_conv_dict = {\n",
    "    'N':   0.,\n",
    "    'NNE': 22.5,\n",
    "    'NE':  45.,\n",
    "    'ENE': 67.5,\n",
    "    'E':   90.,\n",
    "    'ESE': 112.5,\n",
    "    'SE':  135.,\n",
    "    'SSE': 157.5,\n",
    "    'S':   180.,\n",
    "    'SSO': 202.5,\n",
    "    'SO':  225.,\n",
    "    'OSO': 247.5,\n",
    "    'O':   270.,\n",
    "    'ONO': 292.5,\n",
    "    'NO':  315.,\n",
    "    'NNO': 337.5\n",
    "}\n",
    "\n",
    "series_heading = df[col_dict['heading']]\n",
    "for i, hdg_val in enumerate(series_heading):\n",
    "    series_heading[i] = hdg_conv_dict[hdg_val]\n",
    "\n",
    "df_processed[col_dict['heading']] = series_heading\n"
   ]
  },
  {
   "cell_type": "code",
   "execution_count": 11,
   "metadata": {},
   "outputs": [],
   "source": [
    "# df_processed"
   ]
  },
  {
   "cell_type": "code",
   "execution_count": 79,
   "metadata": {},
   "outputs": [],
   "source": [
    "samples_path = os.path.join(RESOURCES_PATH, 'samples')\n",
    "\n",
    "\n",
    "for folder in os.scandir(samples_path):\n",
    "    if folder.name in FOLDERS_IGNORE: continue\n",
    "\n",
    "    # Read datetime\n",
    "    date_str = '_'.join(folder.name .split('_')[:-1])\n",
    "    datetime = dt.datetime.strptime(date_str, '%Y_%m_%d')\n",
    "\n",
    "# => create real image, map, and audio paths and modify them in the dataframe\n",
    "\n",
    "    "
   ]
  },
  {
   "cell_type": "code",
   "execution_count": 56,
   "metadata": {},
   "outputs": [
    {
     "name": "stdout",
     "output_type": "stream",
     "text": [
      "a2\n",
      "a1\n"
     ]
    }
   ],
   "source": []
  },
  {
   "cell_type": "code",
   "execution_count": null,
   "metadata": {},
   "outputs": [],
   "source": []
  }
 ],
 "metadata": {
  "interpreter": {
   "hash": "397704579725e15f5c7cb49fe5f0341eb7531c82d19f2c29d197e8b64ab5776b"
  },
  "kernelspec": {
   "display_name": "Python 3.9.0 64-bit",
   "language": "python",
   "name": "python3"
  },
  "language_info": {
   "codemirror_mode": {
    "name": "ipython",
    "version": 3
   },
   "file_extension": ".py",
   "mimetype": "text/x-python",
   "name": "python",
   "nbconvert_exporter": "python",
   "pygments_lexer": "ipython3",
   "version": "3.9.0"
  },
  "orig_nbformat": 4
 },
 "nbformat": 4,
 "nbformat_minor": 2
}
