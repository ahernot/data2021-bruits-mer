{
 "cells": [
  {
   "cell_type": "code",
   "execution_count": 15,
   "metadata": {},
   "outputs": [],
   "source": [
    "import pandas as pd\n",
    "import os\n",
    "\n",
    "from preferences import *\n",
    "\n",
    "\n",
    "FOLDERS_IGNORE = ('.DS_Store', )"
   ]
  },
  {
   "cell_type": "code",
   "execution_count": 12,
   "metadata": {},
   "outputs": [],
   "source": [
    "# Import Excel datasheet\n",
    "excel_path = os.path.join(RESOURCES_PATH, '_other/relevés.xlsx')\n",
    "df = pd.read_excel (excel_path, engine='openpyxl')"
   ]
  },
  {
   "cell_type": "code",
   "execution_count": 19,
   "metadata": {},
   "outputs": [
    {
     "name": "stdout",
     "output_type": "stream",
     "text": [
      "<DirEntry '2020_01_25_Manon'> <class 'posix.DirEntry'> 2020_01_25_Manon\n",
      "<DirEntry '2020_01_28_3A'> <class 'posix.DirEntry'> 2020_01_28_3A\n",
      "<DirEntry '2020_02_15_3A'> <class 'posix.DirEntry'> 2020_02_15_3A\n",
      "<DirEntry '2020_02_14_3A'> <class 'posix.DirEntry'> 2020_02_14_3A\n",
      "<DirEntry '2020_02_22_Manon'> <class 'posix.DirEntry'> 2020_02_22_Manon\n"
     ]
    }
   ],
   "source": [
    "samples_path = os.path.join(RESOURCES_PATH, 'samples')\n",
    "\n",
    "\n",
    "# for folder in os.listdir(samples_path):\n",
    "#     if folder in FOLDERS_IGNORE: continue\n",
    "#     print(folder, type(folder))\n",
    "\n",
    "for folder in os.scandir(samples_path):\n",
    "    if folder.name in FOLDERS_IGNORE: continue\n",
    "    print(folder, type(folder), folder.name)"
   ]
  },
  {
   "cell_type": "code",
   "execution_count": null,
   "metadata": {},
   "outputs": [],
   "source": []
  }
 ],
 "metadata": {
  "interpreter": {
   "hash": "397704579725e15f5c7cb49fe5f0341eb7531c82d19f2c29d197e8b64ab5776b"
  },
  "kernelspec": {
   "display_name": "Python 3.9.0 64-bit",
   "language": "python",
   "name": "python3"
  },
  "language_info": {
   "codemirror_mode": {
    "name": "ipython",
    "version": 3
   },
   "file_extension": ".py",
   "mimetype": "text/x-python",
   "name": "python",
   "nbconvert_exporter": "python",
   "pygments_lexer": "ipython3",
   "version": "3.9.0"
  },
  "orig_nbformat": 4
 },
 "nbformat": 4,
 "nbformat_minor": 2
}
